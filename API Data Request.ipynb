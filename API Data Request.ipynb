{
 "cells": [
  {
   "cell_type": "code",
   "execution_count": 17,
   "metadata": {},
   "outputs": [],
   "source": [
    "import requests\n",
    "import re"
   ]
  },
  {
   "cell_type": "markdown",
   "metadata": {},
   "source": [
    "## Create day value for query"
   ]
  },
  {
   "cell_type": "code",
   "execution_count": 18,
   "metadata": {},
   "outputs": [],
   "source": [
    "day = []\n",
    "for i in range(1,13):\n",
    "    if i < 10:\n",
    "        date = '2018-0' + str(i) + '-01'\n",
    "    else:\n",
    "        date = '2018-' + str(i) + '-01'\n",
    "    day.append(date)\n",
    "    \n",
    "for i in range(1,13):\n",
    "    if i < 10:\n",
    "        date = '2019-0' + str(i) + '-01'\n",
    "    else:\n",
    "        date = '2019-' + str(i) + '-01'\n",
    "    day.append(date)\n",
    "\n",
    "\n",
    "num = len(day) - 1"
   ]
  },
  {
   "cell_type": "markdown",
   "metadata": {},
   "source": [
    "### Sample query\n",
    "select distinct(partner_code) from :parquetTppTransDailyHis: where trans_amount > 0 and service_code in ('EVN','NHCM','NDT ','FECRDT','HCDEBT','PCE','100000','000003 ','000004','200000','PAYMENT','CP','VNPPRE','VMSPRE','BEEPRE','VNMPRE','VNPPCE','VMSPCE','BEEPCE','VNMPCE','DNIWACO ','NHUE ','TGGWACO','CTWACO','PRUDENTIAL','OCBCRDT','MCREDIT','MSBCRDT','NCM','HCDEBT','VAP','MIRAEASSET','ACSCRDT\t','ATMCRDT','THBVAG','GATE','ONCASH','MEGACARD','ZINGPCE','GARENA','VCOIN','BTAINS','SSTADSBILL','VEXERE','STCBILLING','PRUFINANCE','KPLUS','AVG','VTVCAB') and error_code in ('00','0') and request_day <'2019-01-01' and request_day<'2019-02-01'"
   ]
  },
  {
   "cell_type": "markdown",
   "metadata": {},
   "source": [
    "## Create query"
   ]
  },
  {
   "cell_type": "code",
   "execution_count": 8,
   "metadata": {},
   "outputs": [],
   "source": [
    "reqs = []\n",
    "for i in range(num):\n",
    "    req = \"select distinct(partner_code) from :parquetTppTransDailyHis: where trans_amount > 0 and service_code in ('EVN','NHCM','NDT ','FECRDT','HCDEBT','PCE','100000','000003 ','000004','200000','PAYMENT','CP','VNPPRE','VMSPRE','BEEPRE','VNMPRE','VNPPCE','VMSPCE','BEEPCE','VNMPCE','DNIWACO ','NHUE ','TGGWACO','CTWACO','PRUDENTIAL','OCBCRDT','MCREDIT','MSBCRDT','NCM','HCDEBT','VAP','MIRAEASSET','ACSCRDT\t','ATMCRDT','THBVAG','GATE','ONCASH','MEGACARD','ZINGPCE','GARENA','VCOIN','BTAINS','SSTADSBILL','VEXERE','STCBILLING','PRUFINANCE','KPLUS','AVG','VTVCAB') and error_code in ('00','0') and request_day <'\" + day[i+1] + \"' and request_day> '\" + day[i] + \"'\"\n",
    "    reqs.append(req)"
   ]
  },
  {
   "cell_type": "code",
   "execution_count": 10,
   "metadata": {},
   "outputs": [
    {
     "data": {
      "text/plain": [
       "[\"select distinct(partner_code) from :parquetTppTransDailyHis: where trans_amount > 0 and service_code in ('EVN','NHCM','NDT ','FECRDT','HCDEBT','PCE','100000','000003 ','000004','200000','PAYMENT','CP','VNPPRE','VMSPRE','BEEPRE','VNMPRE','VNPPCE','VMSPCE','BEEPCE','VNMPCE','DNIWACO ','NHUE ','TGGWACO','CTWACO','PRUDENTIAL','OCBCRDT','MCREDIT','MSBCRDT','NCM','HCDEBT','VAP','MIRAEASSET','ACSCRDT\\t','ATMCRDT','THBVAG','GATE','ONCASH','MEGACARD','ZINGPCE','GARENA','VCOIN','BTAINS','SSTADSBILL','VEXERE','STCBILLING','PRUFINANCE','KPLUS','AVG','VTVCAB') and error_code in ('00','0') and request_day <'2018-02-01' and request_day> '2018-01-01'\",\n",
       " \"select distinct(partner_code) from :parquetTppTransDailyHis: where trans_amount > 0 and service_code in ('EVN','NHCM','NDT ','FECRDT','HCDEBT','PCE','100000','000003 ','000004','200000','PAYMENT','CP','VNPPRE','VMSPRE','BEEPRE','VNMPRE','VNPPCE','VMSPCE','BEEPCE','VNMPCE','DNIWACO ','NHUE ','TGGWACO','CTWACO','PRUDENTIAL','OCBCRDT','MCREDIT','MSBCRDT','NCM','HCDEBT','VAP','MIRAEASSET','ACSCRDT\\t','ATMCRDT','THBVAG','GATE','ONCASH','MEGACARD','ZINGPCE','GARENA','VCOIN','BTAINS','SSTADSBILL','VEXERE','STCBILLING','PRUFINANCE','KPLUS','AVG','VTVCAB') and error_code in ('00','0') and request_day <'2018-03-01' and request_day> '2018-02-01'\",\n",
       " \"select distinct(partner_code) from :parquetTppTransDailyHis: where trans_amount > 0 and service_code in ('EVN','NHCM','NDT ','FECRDT','HCDEBT','PCE','100000','000003 ','000004','200000','PAYMENT','CP','VNPPRE','VMSPRE','BEEPRE','VNMPRE','VNPPCE','VMSPCE','BEEPCE','VNMPCE','DNIWACO ','NHUE ','TGGWACO','CTWACO','PRUDENTIAL','OCBCRDT','MCREDIT','MSBCRDT','NCM','HCDEBT','VAP','MIRAEASSET','ACSCRDT\\t','ATMCRDT','THBVAG','GATE','ONCASH','MEGACARD','ZINGPCE','GARENA','VCOIN','BTAINS','SSTADSBILL','VEXERE','STCBILLING','PRUFINANCE','KPLUS','AVG','VTVCAB') and error_code in ('00','0') and request_day <'2018-04-01' and request_day> '2018-03-01'\",\n",
       " \"select distinct(partner_code) from :parquetTppTransDailyHis: where trans_amount > 0 and service_code in ('EVN','NHCM','NDT ','FECRDT','HCDEBT','PCE','100000','000003 ','000004','200000','PAYMENT','CP','VNPPRE','VMSPRE','BEEPRE','VNMPRE','VNPPCE','VMSPCE','BEEPCE','VNMPCE','DNIWACO ','NHUE ','TGGWACO','CTWACO','PRUDENTIAL','OCBCRDT','MCREDIT','MSBCRDT','NCM','HCDEBT','VAP','MIRAEASSET','ACSCRDT\\t','ATMCRDT','THBVAG','GATE','ONCASH','MEGACARD','ZINGPCE','GARENA','VCOIN','BTAINS','SSTADSBILL','VEXERE','STCBILLING','PRUFINANCE','KPLUS','AVG','VTVCAB') and error_code in ('00','0') and request_day <'2018-05-01' and request_day> '2018-04-01'\",\n",
       " \"select distinct(partner_code) from :parquetTppTransDailyHis: where trans_amount > 0 and service_code in ('EVN','NHCM','NDT ','FECRDT','HCDEBT','PCE','100000','000003 ','000004','200000','PAYMENT','CP','VNPPRE','VMSPRE','BEEPRE','VNMPRE','VNPPCE','VMSPCE','BEEPCE','VNMPCE','DNIWACO ','NHUE ','TGGWACO','CTWACO','PRUDENTIAL','OCBCRDT','MCREDIT','MSBCRDT','NCM','HCDEBT','VAP','MIRAEASSET','ACSCRDT\\t','ATMCRDT','THBVAG','GATE','ONCASH','MEGACARD','ZINGPCE','GARENA','VCOIN','BTAINS','SSTADSBILL','VEXERE','STCBILLING','PRUFINANCE','KPLUS','AVG','VTVCAB') and error_code in ('00','0') and request_day <'2018-06-01' and request_day> '2018-05-01'\",\n",
       " \"select distinct(partner_code) from :parquetTppTransDailyHis: where trans_amount > 0 and service_code in ('EVN','NHCM','NDT ','FECRDT','HCDEBT','PCE','100000','000003 ','000004','200000','PAYMENT','CP','VNPPRE','VMSPRE','BEEPRE','VNMPRE','VNPPCE','VMSPCE','BEEPCE','VNMPCE','DNIWACO ','NHUE ','TGGWACO','CTWACO','PRUDENTIAL','OCBCRDT','MCREDIT','MSBCRDT','NCM','HCDEBT','VAP','MIRAEASSET','ACSCRDT\\t','ATMCRDT','THBVAG','GATE','ONCASH','MEGACARD','ZINGPCE','GARENA','VCOIN','BTAINS','SSTADSBILL','VEXERE','STCBILLING','PRUFINANCE','KPLUS','AVG','VTVCAB') and error_code in ('00','0') and request_day <'2018-07-01' and request_day> '2018-06-01'\",\n",
       " \"select distinct(partner_code) from :parquetTppTransDailyHis: where trans_amount > 0 and service_code in ('EVN','NHCM','NDT ','FECRDT','HCDEBT','PCE','100000','000003 ','000004','200000','PAYMENT','CP','VNPPRE','VMSPRE','BEEPRE','VNMPRE','VNPPCE','VMSPCE','BEEPCE','VNMPCE','DNIWACO ','NHUE ','TGGWACO','CTWACO','PRUDENTIAL','OCBCRDT','MCREDIT','MSBCRDT','NCM','HCDEBT','VAP','MIRAEASSET','ACSCRDT\\t','ATMCRDT','THBVAG','GATE','ONCASH','MEGACARD','ZINGPCE','GARENA','VCOIN','BTAINS','SSTADSBILL','VEXERE','STCBILLING','PRUFINANCE','KPLUS','AVG','VTVCAB') and error_code in ('00','0') and request_day <'2018-08-01' and request_day> '2018-07-01'\",\n",
       " \"select distinct(partner_code) from :parquetTppTransDailyHis: where trans_amount > 0 and service_code in ('EVN','NHCM','NDT ','FECRDT','HCDEBT','PCE','100000','000003 ','000004','200000','PAYMENT','CP','VNPPRE','VMSPRE','BEEPRE','VNMPRE','VNPPCE','VMSPCE','BEEPCE','VNMPCE','DNIWACO ','NHUE ','TGGWACO','CTWACO','PRUDENTIAL','OCBCRDT','MCREDIT','MSBCRDT','NCM','HCDEBT','VAP','MIRAEASSET','ACSCRDT\\t','ATMCRDT','THBVAG','GATE','ONCASH','MEGACARD','ZINGPCE','GARENA','VCOIN','BTAINS','SSTADSBILL','VEXERE','STCBILLING','PRUFINANCE','KPLUS','AVG','VTVCAB') and error_code in ('00','0') and request_day <'2018-09-01' and request_day> '2018-08-01'\",\n",
       " \"select distinct(partner_code) from :parquetTppTransDailyHis: where trans_amount > 0 and service_code in ('EVN','NHCM','NDT ','FECRDT','HCDEBT','PCE','100000','000003 ','000004','200000','PAYMENT','CP','VNPPRE','VMSPRE','BEEPRE','VNMPRE','VNPPCE','VMSPCE','BEEPCE','VNMPCE','DNIWACO ','NHUE ','TGGWACO','CTWACO','PRUDENTIAL','OCBCRDT','MCREDIT','MSBCRDT','NCM','HCDEBT','VAP','MIRAEASSET','ACSCRDT\\t','ATMCRDT','THBVAG','GATE','ONCASH','MEGACARD','ZINGPCE','GARENA','VCOIN','BTAINS','SSTADSBILL','VEXERE','STCBILLING','PRUFINANCE','KPLUS','AVG','VTVCAB') and error_code in ('00','0') and request_day <'2018-10-01' and request_day> '2018-09-01'\",\n",
       " \"select distinct(partner_code) from :parquetTppTransDailyHis: where trans_amount > 0 and service_code in ('EVN','NHCM','NDT ','FECRDT','HCDEBT','PCE','100000','000003 ','000004','200000','PAYMENT','CP','VNPPRE','VMSPRE','BEEPRE','VNMPRE','VNPPCE','VMSPCE','BEEPCE','VNMPCE','DNIWACO ','NHUE ','TGGWACO','CTWACO','PRUDENTIAL','OCBCRDT','MCREDIT','MSBCRDT','NCM','HCDEBT','VAP','MIRAEASSET','ACSCRDT\\t','ATMCRDT','THBVAG','GATE','ONCASH','MEGACARD','ZINGPCE','GARENA','VCOIN','BTAINS','SSTADSBILL','VEXERE','STCBILLING','PRUFINANCE','KPLUS','AVG','VTVCAB') and error_code in ('00','0') and request_day <'2018-11-01' and request_day> '2018-10-01'\",\n",
       " \"select distinct(partner_code) from :parquetTppTransDailyHis: where trans_amount > 0 and service_code in ('EVN','NHCM','NDT ','FECRDT','HCDEBT','PCE','100000','000003 ','000004','200000','PAYMENT','CP','VNPPRE','VMSPRE','BEEPRE','VNMPRE','VNPPCE','VMSPCE','BEEPCE','VNMPCE','DNIWACO ','NHUE ','TGGWACO','CTWACO','PRUDENTIAL','OCBCRDT','MCREDIT','MSBCRDT','NCM','HCDEBT','VAP','MIRAEASSET','ACSCRDT\\t','ATMCRDT','THBVAG','GATE','ONCASH','MEGACARD','ZINGPCE','GARENA','VCOIN','BTAINS','SSTADSBILL','VEXERE','STCBILLING','PRUFINANCE','KPLUS','AVG','VTVCAB') and error_code in ('00','0') and request_day <'2018-12-01' and request_day> '2018-11-01'\",\n",
       " \"select distinct(partner_code) from :parquetTppTransDailyHis: where trans_amount > 0 and service_code in ('EVN','NHCM','NDT ','FECRDT','HCDEBT','PCE','100000','000003 ','000004','200000','PAYMENT','CP','VNPPRE','VMSPRE','BEEPRE','VNMPRE','VNPPCE','VMSPCE','BEEPCE','VNMPCE','DNIWACO ','NHUE ','TGGWACO','CTWACO','PRUDENTIAL','OCBCRDT','MCREDIT','MSBCRDT','NCM','HCDEBT','VAP','MIRAEASSET','ACSCRDT\\t','ATMCRDT','THBVAG','GATE','ONCASH','MEGACARD','ZINGPCE','GARENA','VCOIN','BTAINS','SSTADSBILL','VEXERE','STCBILLING','PRUFINANCE','KPLUS','AVG','VTVCAB') and error_code in ('00','0') and request_day <'2019-01-01' and request_day> '2018-12-01'\",\n",
       " \"select distinct(partner_code) from :parquetTppTransDailyHis: where trans_amount > 0 and service_code in ('EVN','NHCM','NDT ','FECRDT','HCDEBT','PCE','100000','000003 ','000004','200000','PAYMENT','CP','VNPPRE','VMSPRE','BEEPRE','VNMPRE','VNPPCE','VMSPCE','BEEPCE','VNMPCE','DNIWACO ','NHUE ','TGGWACO','CTWACO','PRUDENTIAL','OCBCRDT','MCREDIT','MSBCRDT','NCM','HCDEBT','VAP','MIRAEASSET','ACSCRDT\\t','ATMCRDT','THBVAG','GATE','ONCASH','MEGACARD','ZINGPCE','GARENA','VCOIN','BTAINS','SSTADSBILL','VEXERE','STCBILLING','PRUFINANCE','KPLUS','AVG','VTVCAB') and error_code in ('00','0') and request_day <'2019-02-01' and request_day> '2019-01-01'\",\n",
       " \"select distinct(partner_code) from :parquetTppTransDailyHis: where trans_amount > 0 and service_code in ('EVN','NHCM','NDT ','FECRDT','HCDEBT','PCE','100000','000003 ','000004','200000','PAYMENT','CP','VNPPRE','VMSPRE','BEEPRE','VNMPRE','VNPPCE','VMSPCE','BEEPCE','VNMPCE','DNIWACO ','NHUE ','TGGWACO','CTWACO','PRUDENTIAL','OCBCRDT','MCREDIT','MSBCRDT','NCM','HCDEBT','VAP','MIRAEASSET','ACSCRDT\\t','ATMCRDT','THBVAG','GATE','ONCASH','MEGACARD','ZINGPCE','GARENA','VCOIN','BTAINS','SSTADSBILL','VEXERE','STCBILLING','PRUFINANCE','KPLUS','AVG','VTVCAB') and error_code in ('00','0') and request_day <'2019-03-01' and request_day> '2019-02-01'\",\n",
       " \"select distinct(partner_code) from :parquetTppTransDailyHis: where trans_amount > 0 and service_code in ('EVN','NHCM','NDT ','FECRDT','HCDEBT','PCE','100000','000003 ','000004','200000','PAYMENT','CP','VNPPRE','VMSPRE','BEEPRE','VNMPRE','VNPPCE','VMSPCE','BEEPCE','VNMPCE','DNIWACO ','NHUE ','TGGWACO','CTWACO','PRUDENTIAL','OCBCRDT','MCREDIT','MSBCRDT','NCM','HCDEBT','VAP','MIRAEASSET','ACSCRDT\\t','ATMCRDT','THBVAG','GATE','ONCASH','MEGACARD','ZINGPCE','GARENA','VCOIN','BTAINS','SSTADSBILL','VEXERE','STCBILLING','PRUFINANCE','KPLUS','AVG','VTVCAB') and error_code in ('00','0') and request_day <'2019-04-01' and request_day> '2019-03-01'\",\n",
       " \"select distinct(partner_code) from :parquetTppTransDailyHis: where trans_amount > 0 and service_code in ('EVN','NHCM','NDT ','FECRDT','HCDEBT','PCE','100000','000003 ','000004','200000','PAYMENT','CP','VNPPRE','VMSPRE','BEEPRE','VNMPRE','VNPPCE','VMSPCE','BEEPCE','VNMPCE','DNIWACO ','NHUE ','TGGWACO','CTWACO','PRUDENTIAL','OCBCRDT','MCREDIT','MSBCRDT','NCM','HCDEBT','VAP','MIRAEASSET','ACSCRDT\\t','ATMCRDT','THBVAG','GATE','ONCASH','MEGACARD','ZINGPCE','GARENA','VCOIN','BTAINS','SSTADSBILL','VEXERE','STCBILLING','PRUFINANCE','KPLUS','AVG','VTVCAB') and error_code in ('00','0') and request_day <'2019-05-01' and request_day> '2019-04-01'\",\n",
       " \"select distinct(partner_code) from :parquetTppTransDailyHis: where trans_amount > 0 and service_code in ('EVN','NHCM','NDT ','FECRDT','HCDEBT','PCE','100000','000003 ','000004','200000','PAYMENT','CP','VNPPRE','VMSPRE','BEEPRE','VNMPRE','VNPPCE','VMSPCE','BEEPCE','VNMPCE','DNIWACO ','NHUE ','TGGWACO','CTWACO','PRUDENTIAL','OCBCRDT','MCREDIT','MSBCRDT','NCM','HCDEBT','VAP','MIRAEASSET','ACSCRDT\\t','ATMCRDT','THBVAG','GATE','ONCASH','MEGACARD','ZINGPCE','GARENA','VCOIN','BTAINS','SSTADSBILL','VEXERE','STCBILLING','PRUFINANCE','KPLUS','AVG','VTVCAB') and error_code in ('00','0') and request_day <'2019-06-01' and request_day> '2019-05-01'\",\n",
       " \"select distinct(partner_code) from :parquetTppTransDailyHis: where trans_amount > 0 and service_code in ('EVN','NHCM','NDT ','FECRDT','HCDEBT','PCE','100000','000003 ','000004','200000','PAYMENT','CP','VNPPRE','VMSPRE','BEEPRE','VNMPRE','VNPPCE','VMSPCE','BEEPCE','VNMPCE','DNIWACO ','NHUE ','TGGWACO','CTWACO','PRUDENTIAL','OCBCRDT','MCREDIT','MSBCRDT','NCM','HCDEBT','VAP','MIRAEASSET','ACSCRDT\\t','ATMCRDT','THBVAG','GATE','ONCASH','MEGACARD','ZINGPCE','GARENA','VCOIN','BTAINS','SSTADSBILL','VEXERE','STCBILLING','PRUFINANCE','KPLUS','AVG','VTVCAB') and error_code in ('00','0') and request_day <'2019-07-01' and request_day> '2019-06-01'\",\n",
       " \"select distinct(partner_code) from :parquetTppTransDailyHis: where trans_amount > 0 and service_code in ('EVN','NHCM','NDT ','FECRDT','HCDEBT','PCE','100000','000003 ','000004','200000','PAYMENT','CP','VNPPRE','VMSPRE','BEEPRE','VNMPRE','VNPPCE','VMSPCE','BEEPCE','VNMPCE','DNIWACO ','NHUE ','TGGWACO','CTWACO','PRUDENTIAL','OCBCRDT','MCREDIT','MSBCRDT','NCM','HCDEBT','VAP','MIRAEASSET','ACSCRDT\\t','ATMCRDT','THBVAG','GATE','ONCASH','MEGACARD','ZINGPCE','GARENA','VCOIN','BTAINS','SSTADSBILL','VEXERE','STCBILLING','PRUFINANCE','KPLUS','AVG','VTVCAB') and error_code in ('00','0') and request_day <'2019-08-01' and request_day> '2019-07-01'\",\n",
       " \"select distinct(partner_code) from :parquetTppTransDailyHis: where trans_amount > 0 and service_code in ('EVN','NHCM','NDT ','FECRDT','HCDEBT','PCE','100000','000003 ','000004','200000','PAYMENT','CP','VNPPRE','VMSPRE','BEEPRE','VNMPRE','VNPPCE','VMSPCE','BEEPCE','VNMPCE','DNIWACO ','NHUE ','TGGWACO','CTWACO','PRUDENTIAL','OCBCRDT','MCREDIT','MSBCRDT','NCM','HCDEBT','VAP','MIRAEASSET','ACSCRDT\\t','ATMCRDT','THBVAG','GATE','ONCASH','MEGACARD','ZINGPCE','GARENA','VCOIN','BTAINS','SSTADSBILL','VEXERE','STCBILLING','PRUFINANCE','KPLUS','AVG','VTVCAB') and error_code in ('00','0') and request_day <'2019-09-01' and request_day> '2019-08-01'\",\n",
       " \"select distinct(partner_code) from :parquetTppTransDailyHis: where trans_amount > 0 and service_code in ('EVN','NHCM','NDT ','FECRDT','HCDEBT','PCE','100000','000003 ','000004','200000','PAYMENT','CP','VNPPRE','VMSPRE','BEEPRE','VNMPRE','VNPPCE','VMSPCE','BEEPCE','VNMPCE','DNIWACO ','NHUE ','TGGWACO','CTWACO','PRUDENTIAL','OCBCRDT','MCREDIT','MSBCRDT','NCM','HCDEBT','VAP','MIRAEASSET','ACSCRDT\\t','ATMCRDT','THBVAG','GATE','ONCASH','MEGACARD','ZINGPCE','GARENA','VCOIN','BTAINS','SSTADSBILL','VEXERE','STCBILLING','PRUFINANCE','KPLUS','AVG','VTVCAB') and error_code in ('00','0') and request_day <'2019-10-01' and request_day> '2019-09-01'\",\n",
       " \"select distinct(partner_code) from :parquetTppTransDailyHis: where trans_amount > 0 and service_code in ('EVN','NHCM','NDT ','FECRDT','HCDEBT','PCE','100000','000003 ','000004','200000','PAYMENT','CP','VNPPRE','VMSPRE','BEEPRE','VNMPRE','VNPPCE','VMSPCE','BEEPCE','VNMPCE','DNIWACO ','NHUE ','TGGWACO','CTWACO','PRUDENTIAL','OCBCRDT','MCREDIT','MSBCRDT','NCM','HCDEBT','VAP','MIRAEASSET','ACSCRDT\\t','ATMCRDT','THBVAG','GATE','ONCASH','MEGACARD','ZINGPCE','GARENA','VCOIN','BTAINS','SSTADSBILL','VEXERE','STCBILLING','PRUFINANCE','KPLUS','AVG','VTVCAB') and error_code in ('00','0') and request_day <'2019-11-01' and request_day> '2019-10-01'\",\n",
       " \"select distinct(partner_code) from :parquetTppTransDailyHis: where trans_amount > 0 and service_code in ('EVN','NHCM','NDT ','FECRDT','HCDEBT','PCE','100000','000003 ','000004','200000','PAYMENT','CP','VNPPRE','VMSPRE','BEEPRE','VNMPRE','VNPPCE','VMSPCE','BEEPCE','VNMPCE','DNIWACO ','NHUE ','TGGWACO','CTWACO','PRUDENTIAL','OCBCRDT','MCREDIT','MSBCRDT','NCM','HCDEBT','VAP','MIRAEASSET','ACSCRDT\\t','ATMCRDT','THBVAG','GATE','ONCASH','MEGACARD','ZINGPCE','GARENA','VCOIN','BTAINS','SSTADSBILL','VEXERE','STCBILLING','PRUFINANCE','KPLUS','AVG','VTVCAB') and error_code in ('00','0') and request_day <'2019-12-01' and request_day> '2019-11-01'\"]"
      ]
     },
     "execution_count": 10,
     "metadata": {},
     "output_type": "execute_result"
    }
   ],
   "source": [
    "reqs"
   ]
  },
  {
   "cell_type": "markdown",
   "metadata": {},
   "source": [
    "## Define function to send request to API"
   ]
  },
  {
   "cell_type": "code",
   "execution_count": 22,
   "metadata": {},
   "outputs": [],
   "source": [
    "def post(req):\n",
    "    API_ENDPOINT = \"http://10.58.244.171:9126/job\"\n",
    "    \n",
    "    data = {'query':req, \n",
    "        'JobName':'test', \n",
    "        'private': 'true'} \n",
    "    r = requests.post(url = API_ENDPOINT, data = data)\n",
    "    return r.text"
   ]
  },
  {
   "cell_type": "markdown",
   "metadata": {},
   "source": [
    "### Example of sending query with function\n",
    "pastebin_url = post('''select distinct(shop_code) from :parquetTppTransDailyHis: where trans_amount > 0 and service_code in ('EVN','NHCM','NDT ','FECRDT','HCDEBT','PCE','100000','000003 ','000004','200000','PAYMENT','CP','VNPPRE','VMSPRE','BEEPRE','VNMPRE','VNPPCE','VMSPCE','BEEPCE','VNMPCE','DNIWACO ','NHUE ','TGGWACO','CTWACO','PRUDENTIAL','OCBCRDT','MCREDIT','MSBCRDT','NCM','HCDEBT','VAP','MIRAEASSET','ACSCRDT\t','ATMCRDT','THBVAG','GATE','ONCASH','MEGACARD','ZINGPCE','GARENA','VCOIN','BTAINS','SSTADSBILL','VEXERE','STCBILLING','PRUFINANCE','KPLUS','AVG','VTVCAB') and error_code in ('00','0') and request_day <'2019-01-01' and request_day<'2019-02-01''')"
   ]
  },
  {
   "cell_type": "markdown",
   "metadata": {},
   "source": [
    "## Sending multiple POST request to API with predefined queries"
   ]
  },
  {
   "cell_type": "code",
   "execution_count": 19,
   "metadata": {},
   "outputs": [],
   "source": [
    "job = []\n",
    "for i in range(num):\n",
    "    job.append(post(reqs[i]))"
   ]
  },
  {
   "cell_type": "markdown",
   "metadata": {},
   "source": [
    "## Take the job ID to download data from API"
   ]
  },
  {
   "cell_type": "code",
   "execution_count": 20,
   "metadata": {},
   "outputs": [],
   "source": [
    "jobid = []\n",
    "for i in range(num):\n",
    "    jobid.extend(re.findall(r\"\\d+\",job[i]))"
   ]
  },
  {
   "cell_type": "markdown",
   "metadata": {},
   "source": [
    "## Define function to download multiple data file to a target folder"
   ]
  },
  {
   "cell_type": "code",
   "execution_count": 24,
   "metadata": {},
   "outputs": [],
   "source": [
    "def download(jobid):\n",
    "    from bs4 import BeautifulSoup\n",
    "    import urllib\n",
    "    import requests\n",
    "    \n",
    "    URL = 'http://10.58.244.171:9126/job?jobId=' + jobid +'&private=true' \n",
    "    soup = BeautifulSoup(urllib.request.urlopen(URL))\n",
    "\n",
    "    url = re.findall(\"http.+csv\",soup.text)[0]\n",
    "    \n",
    "    myfile = requests.get(url, allow_redirects=True)\n",
    "     \n",
    "    folder = 'D:/Data/Data Export/San San/Untitled Folder/Data/' + str(i) + '.csv'\n",
    "    \n",
    "#     open(folder, 'wb').write(myfile.content)\n",
    "    \n",
    "    return open(folder, 'wb').write(myfile.content)"
   ]
  },
  {
   "cell_type": "markdown",
   "metadata": {},
   "source": [
    "## Download data"
   ]
  },
  {
   "cell_type": "code",
   "execution_count": 31,
   "metadata": {},
   "outputs": [],
   "source": [
    "for i in range (num):\n",
    "    download(jobid[i])"
   ]
  }
 ],
 "metadata": {
  "kernelspec": {
   "display_name": "Python 3",
   "language": "python",
   "name": "python3"
  },
  "language_info": {
   "codemirror_mode": {
    "name": "ipython",
    "version": 3
   },
   "file_extension": ".py",
   "mimetype": "text/x-python",
   "name": "python",
   "nbconvert_exporter": "python",
   "pygments_lexer": "ipython3",
   "version": "3.7.4"
  }
 },
 "nbformat": 4,
 "nbformat_minor": 2
}
